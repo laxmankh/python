{
 "cells": [
  {
   "cell_type": "code",
   "execution_count": 7,
   "id": "bbd0c7a9-9b6c-4fd9-81bd-d5f353797461",
   "metadata": {},
   "outputs": [
    {
     "name": "stdout",
     "output_type": "stream",
     "text": [
      "Mean: 4.1\n",
      "Mode: 5\n",
      "Median: 4.5\n",
      "Variance: 4.090000000000001\n",
      "Standard Deviation: 2.022374841615669\n"
     ]
    }
   ],
   "source": [
    "  def calculate_mean(numbers):\n",
    "    return sum(numbers) / len(numbers)\n",
    "\n",
    "def calculate_mode(numbers):\n",
    "    # Calculate the mode (most common number) in the list\n",
    "    mode_count = 0\n",
    "    mode = None\n",
    "    for num in numbers:\n",
    "        count = numbers.count(num)\n",
    "        if count > mode_count:\n",
    "            mode_count = count\n",
    "            mode = num\n",
    "    return mode\n",
    "\n",
    "def calculate_median(numbers):\n",
    "    # Calculate the median (middle number) of the list\n",
    "    numbers.sort()\n",
    "    length = len(numbers)\n",
    "    mid=int(length/2)\n",
    "    if length % 2 == 0:\n",
    "        #middle1 = numbers[length // 2]\n",
    "        #middle2 = numbers[length // 2 - 1]\n",
    "        return (numbers[mid] + numbers[mid-1]) / 2\n",
    "    else:\n",
    "        return numbers[length // 2]\n",
    "\n",
    "def calculate_variance(numbers):\n",
    "    mean = calculate_mean(numbers)\n",
    "    variance = sum((x - mean) ** 2 for x in numbers) / len(numbers)\n",
    "    return variance\n",
    "\n",
    "def calculate_standard_deviation(numbers):\n",
    "    return (calculate_variance(numbers)) ** 0.5\n",
    "\n",
    "# Example list of numbers\n",
    "numbers = [1, 2, 2, 3, 4, 5, 5, 5, 6,8]\n",
    "\n",
    "mean = calculate_mean(numbers)\n",
    "mode = calculate_mode(numbers)\n",
    "median = calculate_median(numbers)\n",
    "variance = calculate_variance(numbers)\n",
    "std_deviation = calculate_standard_deviation(numbers)\n",
    "\n",
    "print(\"Mean:\", mean)\n",
    "print(\"Mode:\", mode)\n",
    "print(\"Median:\", median)\n",
    "print(\"Variance:\", variance)\n",
    "print(\"Standard Deviation:\", std_deviation)\n"
   ]
  },
  {
   "cell_type": "code",
   "execution_count": 4,
   "id": "cde25379-fc82-403d-ae99-78f3c7b38b3d",
   "metadata": {},
   "outputs": [
    {
     "name": "stdout",
     "output_type": "stream",
     "text": [
      "0   -1.138676\n",
      "1    0.821120\n",
      "2   -2.209649\n",
      "3    0.033288\n",
      "dtype: float64\n"
     ]
    }
   ],
   "source": [
    "import pandas as pd\n",
    "import numpy as np\n",
    "#Create a series with 100 random numbers\n",
    "s = pd.Series(np.random.randn(4))\n",
    "print(s)"
   ]
  },
  {
   "cell_type": "code",
   "execution_count": null,
   "id": "ef79e935-ee75-40a6-8e8b-50a5c5996528",
   "metadata": {},
   "outputs": [],
   "source": []
  }
 ],
 "metadata": {
  "kernelspec": {
   "display_name": "Python 3 (ipykernel)",
   "language": "python",
   "name": "python3"
  },
  "language_info": {
   "codemirror_mode": {
    "name": "ipython",
    "version": 3
   },
   "file_extension": ".py",
   "mimetype": "text/x-python",
   "name": "python",
   "nbconvert_exporter": "python",
   "pygments_lexer": "ipython3",
   "version": "3.10.11"
  }
 },
 "nbformat": 4,
 "nbformat_minor": 5
}
