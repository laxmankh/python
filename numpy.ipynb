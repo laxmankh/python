{
 "cells": [
  {
   "cell_type": "code",
   "execution_count": 3,
   "id": "54f81be1-95c6-48c4-9e8b-32e9cf648eb8",
   "metadata": {},
   "outputs": [
    {
     "name": "stdout",
     "output_type": "stream",
     "text": [
      "Original array: [1 2 3 4 5]\n",
      "Shape: (5,)\n",
      "Zeros array: [[0. 0. 0.]\n",
      " [0. 0. 0.]]\n",
      "Ones array: [[1. 1. 1. 1.]\n",
      " [1. 1. 1. 1.]\n",
      " [1. 1. 1. 1.]]\n",
      "Identity matrix: [[1. 0. 0.]\n",
      " [0. 1. 0.]\n",
      " [0. 0. 1.]]\n",
      "Range array: [1 3 5 7 9]\n",
      "Linspace array: [0.   0.25 0.5  0.75 1.  ]\n",
      "Addition: [ 6  7  8  9 10]\n",
      "Subtraction: [-1  0  1  2  3]\n",
      "Multiplication: [ 3  6  9 12 15]\n",
      "Division: [0.5 1.  1.5 2.  2.5]\n",
      "Dot product: 95\n",
      "Transposed: [1 2 3 4 5]\n",
      "Max value: 5\n",
      "Min value: 1\n",
      "Sum: 15\n",
      "Mean: 3.0\n",
      "Standard Deviation: 1.4142135623730951\n",
      "Index of max value: 4\n"
     ]
    }
   ],
   "source": [
    "import numpy as np\n",
    "\n",
    "# 1. Create an array\n",
    "arr = np.array([1, 2, 3, 4, 5])\n",
    "\n",
    "# 2. Get the shape of an array\n",
    "shape = arr.shape\n",
    "\n",
    "# 3. Reshape an array\n",
    "#reshaped = arr.reshape(2, 3)\n",
    "\n",
    "# 4. Generate an array of zeros\n",
    "zeros = np.zeros((2, 3))\n",
    "\n",
    "# 5. Generate an array of ones\n",
    "ones = np.ones((3, 4))\n",
    "\n",
    "# 6. Generate an identity matrix\n",
    "identity = np.eye(3)\n",
    "\n",
    "# 7. Create a range of values\n",
    "range_arr = np.arange(1, 10, 2)\n",
    "\n",
    "# 8. Create a linspace (linearly spaced) array\n",
    "linspace_arr = np.linspace(0, 1, 5)\n",
    "\n",
    "# 9. Perform element-wise addition\n",
    "addition = np.add(arr, 5)\n",
    "\n",
    "# 10. Perform element-wise subtraction\n",
    "subtraction = np.subtract(arr, 2)\n",
    "\n",
    "# 11. Perform element-wise multiplication\n",
    "multiplication = np.multiply(arr, 3)\n",
    "\n",
    "# 12. Perform element-wise division\n",
    "division = np.divide(arr, 2)\n",
    "\n",
    "# 13. Dot product of two arrays\n",
    "dot_product = np.dot(arr, range_arr)\n",
    "\n",
    "# 14. Transpose an array\n",
    "transposed = arr.T\n",
    "\n",
    "# 15. Find the maximum value in an array\n",
    "max_value = arr.max()\n",
    "\n",
    "# 16. Find the minimum value in an array\n",
    "min_value = arr.min()\n",
    "\n",
    "# 17. Sum of all elements in an array\n",
    "array_sum = arr.sum()\n",
    "\n",
    "# 18. Mean of all elements in an array\n",
    "array_mean = arr.mean()\n",
    "\n",
    "# 19. Standard deviation of elements in an array\n",
    "std_deviation = arr.std()\n",
    "\n",
    "# 20. Index of the maximum value\n",
    "max_index = arr.argmax()\n",
    "\n",
    "print(\"Original array:\", arr)\n",
    "print(\"Shape:\", shape)\n",
    "#print(\"Reshaped:\", reshaped)\n",
    "print(\"Zeros array:\", zeros)\n",
    "print(\"Ones array:\", ones)\n",
    "print(\"Identity matrix:\", identity)\n",
    "print(\"Range array:\", range_arr)\n",
    "print(\"Linspace array:\", linspace_arr)\n",
    "print(\"Addition:\", addition)\n",
    "print(\"Subtraction:\", subtraction)\n",
    "print(\"Multiplication:\", multiplication)\n",
    "print(\"Division:\", division)\n",
    "print(\"Dot product:\", dot_product)\n",
    "print(\"Transposed:\", transposed)\n",
    "print(\"Max value:\", max_value)\n",
    "print(\"Min value:\", min_value)\n",
    "print(\"Sum:\", array_sum)\n",
    "print(\"Mean:\", array_mean)\n",
    "print(\"Standard Deviation:\", std_deviation)\n",
    "print(\"Index of max value:\", max_index)\n"
   ]
  },
  {
   "cell_type": "code",
   "execution_count": 8,
   "id": "3a510918-2555-4ae9-ba74-f173aa553bd2",
   "metadata": {},
   "outputs": [
    {
     "data": {
      "text/plain": [
       "array([[10, 10, 10, 10, 10],\n",
       "       [10, 10, 10, 10, 10],\n",
       "       [10, 10, 10, 10, 10],\n",
       "       [10, 10, 10, 10, 10],\n",
       "       [10, 10, 10, 10, 10]])"
      ]
     },
     "execution_count": 8,
     "metadata": {},
     "output_type": "execute_result"
    }
   ],
   "source": [
    "import numpy as np\n",
    "n1=np.full((5,5),10)\n",
    "n1"
   ]
  },
  {
   "cell_type": "code",
   "execution_count": 12,
   "id": "630e85a7-778b-4874-9c32-8a2d34eed8ae",
   "metadata": {},
   "outputs": [
    {
     "data": {
      "text/plain": [
       "array([10, 15])"
      ]
     },
     "execution_count": 12,
     "metadata": {},
     "output_type": "execute_result"
    }
   ],
   "source": [
    "import numpy as np\n",
    "n1=np.arange(10,20)\n",
    "n1"
   ]
  },
  {
   "cell_type": "code",
   "execution_count": 19,
   "id": "f6c504e5-ee5c-4880-b2fe-62b3610efb18",
   "metadata": {},
   "outputs": [
    {
     "name": "stdout",
     "output_type": "stream",
     "text": [
      "[34 56 22 34 54 21 11 67 90]\n"
     ]
    }
   ],
   "source": [
    "import numpy as np\n",
    "n1=np.array([34,56,22,34,54])\n",
    "n2=np.array([21,11,67,90])\n",
    "print(np.concatenate((n1,n2)))"
   ]
  },
  {
   "cell_type": "code",
   "execution_count": 20,
   "id": "b81c4aca-29f3-4aef-a1c9-0974383d5e6c",
   "metadata": {},
   "outputs": [
    {
     "name": "stdout",
     "output_type": "stream",
     "text": [
      "[ 1.    3.25  5.5   7.75 10.  ]\n"
     ]
    }
   ],
   "source": [
    "import numpy as np\n",
    "\n",
    "# Define the start, end, and number of values\n",
    "start = 1\n",
    "end = 10\n",
    "num_values = 5\n",
    "\n",
    "# Generate an array of evenly spaced values\n",
    "result = np.linspace(start, end, num_values)\n",
    "\n",
    "print(result)\n"
   ]
  },
  {
   "cell_type": "code",
   "execution_count": null,
   "id": "b367fd75-3323-4d0a-a68e-9549177cbd59",
   "metadata": {},
   "outputs": [],
   "source": []
  }
 ],
 "metadata": {
  "kernelspec": {
   "display_name": "Python 3 (ipykernel)",
   "language": "python",
   "name": "python3"
  },
  "language_info": {
   "codemirror_mode": {
    "name": "ipython",
    "version": 3
   },
   "file_extension": ".py",
   "mimetype": "text/x-python",
   "name": "python",
   "nbconvert_exporter": "python",
   "pygments_lexer": "ipython3",
   "version": "3.10.11"
  }
 },
 "nbformat": 4,
 "nbformat_minor": 5
}
